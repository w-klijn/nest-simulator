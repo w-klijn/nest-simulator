{
  "cells": [
    {
      "cell_type": "code",
      "execution_count": null,
      "metadata": {
        "collapsed": false
      },
      "outputs": [],
      "source": [
        "%matplotlib inline"
      ]
    },
    {
      "cell_type": "markdown",
      "metadata": {},
      "source": [
        "\nCompare Tsodyks-Markram Synapse models.\n---------------------------------------\n\nThis script compares the two variants of the Tsodyks/Markram synapse in NEST.\n\n"
      ]
    },
    {
      "cell_type": "code",
      "execution_count": null,
      "metadata": {
        "collapsed": false
      },
      "outputs": [],
      "source": [
        "import nest\nimport nest.voltage_trace\nimport numpy\nimport pylab\n\nnest.ResetKernel()\nn_syn = 12.0  # number of synapses in a connection\nn_trials = 30  # number of measurement trials\n\n# parameter set for facilitation\nfac_params = {\"U\": 0.03, \"u\": 0.03, \"tau_fac\": 500.,\n              \"tau_rec\": 200., \"weight\": 1.}\ndep_params = {\"U\": 0.5, \"u\": 0.5, \"tau_fac\": 15.,\n              \"tau_rec\": 670., \"weight\": 1.}\nlin_params = {\"U\": 0.3, \"u\": 0.3, \"tau_fac\": 330.,\n              \"tau_rec\": 330., \"weight\": 1.}\n\n# Here we assign the parameter set to the synapse models\nt1_params = fac_params  # for tsodyks2_synapse\nt2_params = t1_params.copy()  # for furhmann_synapse\n\nt2_params['n'] = n_syn\nt2_params['weight'] = 1. / n_syn\n\nnest.SetDefaults(\"tsodyks2_synapse\", t1_params)\nnest.SetDefaults(\"quantal_stp_synapse\", t2_params)\nnest.SetDefaults(\"iaf_psc_exp\", {\"tau_syn_ex\": 3., 'tau_m': 70.})\n\nparrot = nest.Create('parrot_neuron')\n\nsource = nest.Create('spike_generator')\nnest.SetStatus(source, {'spike_times':\n                        [30., 60., 90., 120., 150., 180., 210., 240., 270.,\n                         300., 330., 360., 390., 900.]})\n\nparrot = nest.Create('parrot_neuron')\nneuron = nest.Create(\"iaf_psc_exp\", 2)\n\nnest.Connect(source, parrot)\nnest.Connect(parrot, neuron[:1], syn_spec=\"tsodyks2_synapse\")\nnest.Connect(parrot, neuron[1:], syn_spec=\"quantal_stp_synapse\")\n\nvoltmeter = nest.Create(\"voltmeter\", 2)\nt_plot = 1000.\nt_tot = 1500.\n\n'''\nthe following is a dry run trial so that the synapse dynamics is\nidential in all subsequent trials.\n'''\n\nnest.Simulate(t_tot)\n\n'''\nNow we connect the voltmeters\n'''\nnest.Connect(voltmeter[:1], neuron[:1])\nnest.Connect(voltmeter[1:], neuron[1:])\n\n'''\nWE now run the specified number of trials in a loop.\n'''\n\nfor t in range(n_trials):\n    t_net = nest.GetKernelStatus('time')\n    nest.SetStatus(source, {'origin': t_net})\n    nest.Simulate(t_tot)\n\nnest.Simulate(.1)  # flush the last voltmeter events from the queue\n\nvm = numpy.array(nest.GetStatus(voltmeter[1], 'events')[0]['V_m'])\nvm_reference = numpy.array(nest.GetStatus(voltmeter[0], 'events')[0]['V_m'])\n\nt_tot = int(t_tot)\nt_plot = int(t_plot)\n\nvm.shape = (n_trials, t_tot)\nvm_reference.shape = (n_trials, t_tot)\n\nvm_mean = numpy.array([numpy.mean(vm[:, i]) for i in range(t_tot)])\nvm_ref_mean = numpy.array([numpy.mean(vm_reference[:, i])\n                           for i in range(t_tot)])\n\nfor t in range(n_trials):\n    pylab.plot(vm[t][:t_plot], color='gray', lw=0.5)\npylab.plot(vm_mean[:t_plot], color='black', lw=2.)\npylab.plot(vm_reference[0][:t_plot], color='red', lw=2.)\n\n'''\nTo display the results, you need to execute\npylab.show()\n'''"
      ]
    }
  ],
  "metadata": {
    "kernelspec": {
      "display_name": "Python 3",
      "language": "python",
      "name": "python3"
    },
    "language_info": {
      "codemirror_mode": {
        "name": "ipython",
        "version": 3
      },
      "file_extension": ".py",
      "mimetype": "text/x-python",
      "name": "python",
      "nbconvert_exporter": "python",
      "pygments_lexer": "ipython3",
      "version": "3.6.7"
    }
  },
  "nbformat": 4,
  "nbformat_minor": 0
}