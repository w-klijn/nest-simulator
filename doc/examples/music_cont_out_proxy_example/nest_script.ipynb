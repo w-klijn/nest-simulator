{
  "cells": [
    {
      "cell_type": "code",
      "execution_count": null,
      "metadata": {
        "collapsed": false
      },
      "outputs": [],
      "source": [
        "%matplotlib inline"
      ]
    },
    {
      "cell_type": "markdown",
      "metadata": {},
      "source": [
        "\nMusic example\n--------------\n\nThis example runs 2 NEST instances and one receiver instance. Neurons on\nthe NEST instances are observed by the music_cont_out_proxy and their\nvalues are forwarded through MUSIC to the receiver.\n\n\n"
      ]
    },
    {
      "cell_type": "code",
      "execution_count": null,
      "metadata": {
        "collapsed": false
      },
      "outputs": [],
      "source": [
        "import nest\nimport music\nimport numpy\n\nproxy = nest.Create('music_cont_out_proxy', 1)\nnest.SetStatus(proxy, {'port_name': 'out'})\nnest.SetStatus(proxy, {'record_from': [\"V_m\"], 'interval': 0.1})\n\nneuron_grp = nest.Create('iaf_cond_exp', 2)\nnest.SetStatus(proxy, {'targets': neuron_grp})\nnest.SetStatus(neuron_grp[0], \"I_e\", 300.)\nnest.SetStatus(neuron_grp[1], \"I_e\", 600.)\n\nnest.Simulate(200)"
      ]
    }
  ],
  "metadata": {
    "kernelspec": {
      "display_name": "Python 3",
      "language": "python",
      "name": "python3"
    },
    "language_info": {
      "codemirror_mode": {
        "name": "ipython",
        "version": 3
      },
      "file_extension": ".py",
      "mimetype": "text/x-python",
      "name": "python",
      "nbconvert_exporter": "python",
      "pygments_lexer": "ipython3",
      "version": "3.6.7"
    }
  },
  "nbformat": 4,
  "nbformat_minor": 0
}