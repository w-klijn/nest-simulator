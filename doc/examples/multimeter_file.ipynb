{
  "cells": [
    {
      "cell_type": "code",
      "execution_count": null,
      "metadata": {
        "collapsed": false
      },
      "outputs": [],
      "source": [
        "%matplotlib inline"
      ]
    },
    {
      "cell_type": "markdown",
      "metadata": {},
      "source": [
        "\nmultimeter to file example\n--------------------------\n\nThis file demonstrates recording from an ``iaf_cond_alpha`` neuron using a\nmultimeter and writing data to file.\n\n\n"
      ]
    },
    {
      "cell_type": "markdown",
      "metadata": {},
      "source": [
        "First, we import the necessary modules to simulate and plot this example.\nThe simulation kernel is put back to its initial state using ``ResetKernel``.\n\n"
      ]
    },
    {
      "cell_type": "code",
      "execution_count": null,
      "metadata": {
        "collapsed": false
      },
      "outputs": [],
      "source": [
        "import nest\nimport numpy\nimport pylab\n\nnest.ResetKernel()"
      ]
    },
    {
      "cell_type": "markdown",
      "metadata": {},
      "source": [
        "With ``SetKernelStatus``, global properties of the simulation kernel can be\nspecified. The following properties are related to writing to file:\n\n* ``overwrite_files`` is set to True to permit overwriting of an existing file.\n* ``data_path`` is the path to which all data is written. It is given relative\n  to  the current working directory.\n* 'data_prefix' allows to specify a common prefix for all data files.\n\n"
      ]
    },
    {
      "cell_type": "code",
      "execution_count": null,
      "metadata": {
        "collapsed": false
      },
      "outputs": [],
      "source": [
        "nest.SetKernelStatus({\"overwrite_files\": True,\n                      \"data_path\": \"\",\n                      \"data_prefix\": \"\"})"
      ]
    },
    {
      "cell_type": "markdown",
      "metadata": {},
      "source": [
        "For illustration, the recordables of the ``iaf_cond_alpha`` neuron model are\ndisplayed. This model is an implementation of a spiking neuron using\nintegrate-and-fire dynamics with conductance-based synapses. Incoming spike\nevents induce a post-synaptic change of conductance modeled by an alpha\nfunction.\n\n"
      ]
    },
    {
      "cell_type": "code",
      "execution_count": null,
      "metadata": {
        "collapsed": false
      },
      "outputs": [],
      "source": [
        "print(\"iaf_cond_alpha recordables: {0}\".format(\n      nest.GetDefaults(\"iaf_cond_alpha\")[\"recordables\"]))"
      ]
    },
    {
      "cell_type": "markdown",
      "metadata": {},
      "source": [
        "A neuron, a multimeter as recording device and two spike generators for\nexcitatory and inhibitory stimulation are instantiated. The command ``Create``\nexpects a model type and, optionally, the desired number of nodes and a\ndictionary of parameters to overwrite the default values of the model.\n\n * For the neuron, the rise time of the excitatory synaptic alpha function\n   (`tau_syn_ex`, in ms) and the reset potential of the membrane\n   (`V_reset`, in mV) are specified.\n * For the ``multimeter``, the time interval for recording (`interval`, in\n   ms) and the measures to record (membrane potential `V_m` in mV and\n   excitatory and inhibitoy synaptic conductances `g_ex` and`g_in` in nS)\n   are set.\n\n In addition, more parameters can be modified for writing to file:\n\n - `record_to` indicates where to put recorded data. All possible values are\n   available by inspecting the keys of the `recording_backends` dictionary\n   obtained from ``GetKernelStatus()``.\n - `label` specifies an arbitrary label for the device. If writing to files,\n   it used in the file name instead of the model name.\n\n * For the spike generators, the spike times in ms (`spike_times`) are given\n   explicitly.\n\n"
      ]
    },
    {
      "cell_type": "code",
      "execution_count": null,
      "metadata": {
        "collapsed": false
      },
      "outputs": [],
      "source": [
        "n = nest.Create(\"iaf_cond_alpha\",\n                params={\"tau_syn_ex\": 1.0, \"V_reset\": -70.0})\n\nm = nest.Create(\"multimeter\",\n                params={\"interval\": 0.1,\n                        \"record_from\": [\"V_m\", \"g_ex\", \"g_in\"],\n                        \"record_to\": \"ascii\",\n                        \"label\": \"my_multimeter\"})\n\ns_ex = nest.Create(\"spike_generator\",\n                   params={\"spike_times\": numpy.array([10.0, 20.0, 50.0])})\ns_in = nest.Create(\"spike_generator\",\n                   params={\"spike_times\": numpy.array([15.0, 25.0, 55.0])})"
      ]
    },
    {
      "cell_type": "markdown",
      "metadata": {},
      "source": [
        "Next, We connect the spike generators to the neuron with ``Connect``. Synapse\nspecifications can be provided in a dictionary. In this example of a\nconductance-based neuron, the synaptic weight ``weight`` is given in nS.\nNote that the values are  positive for excitatory stimulation and negative\nfor inhibitor connections.\n\n"
      ]
    },
    {
      "cell_type": "code",
      "execution_count": null,
      "metadata": {
        "collapsed": false
      },
      "outputs": [],
      "source": [
        "nest.Connect(s_ex, n, syn_spec={\"weight\": 40.0})\nnest.Connect(s_in, n, syn_spec={\"weight\": -20.0})\nnest.Connect(m, n)"
      ]
    },
    {
      "cell_type": "markdown",
      "metadata": {},
      "source": [
        "A network simulation with a duration of 100 ms is started with ``Simulate``.\n\n"
      ]
    },
    {
      "cell_type": "code",
      "execution_count": null,
      "metadata": {
        "collapsed": false
      },
      "outputs": [],
      "source": [
        "nest.Simulate(100.)"
      ]
    },
    {
      "cell_type": "markdown",
      "metadata": {},
      "source": [
        "After the simulation, the recordings are obtained from the multimeter via the\nkey `events` of the status dictionary accessed by ``GetStatus``. `times`\ncontains the recording times stored for each data point.\n\n"
      ]
    },
    {
      "cell_type": "code",
      "execution_count": null,
      "metadata": {
        "collapsed": false
      },
      "outputs": [],
      "source": [
        "events = nest.GetStatus(m)[0][\"events\"]\nt = events[\"times\"]"
      ]
    },
    {
      "cell_type": "markdown",
      "metadata": {},
      "source": [
        "Finally, the time courses of the membrane voltage and the synaptic\nconductance are displayed.\n\n"
      ]
    },
    {
      "cell_type": "code",
      "execution_count": null,
      "metadata": {
        "collapsed": false
      },
      "outputs": [],
      "source": [
        "pylab.clf()\n\npylab.subplot(211)\npylab.plot(t, events[\"V_m\"])\npylab.axis([0, 100, -75, -53])\npylab.ylabel(\"membrane potential (mV)\")\n\npylab.subplot(212)\npylab.plot(t, events[\"g_ex\"], t, events[\"g_in\"])\npylab.axis([0, 100, 0, 45])\npylab.xlabel(\"time (ms)\")\npylab.ylabel(\"synaptic conductance (nS)\")\npylab.legend((\"g_exc\", \"g_inh\"))"
      ]
    }
  ],
  "metadata": {
    "kernelspec": {
      "display_name": "Python 3",
      "language": "python",
      "name": "python3"
    },
    "language_info": {
      "codemirror_mode": {
        "name": "ipython",
        "version": 3
      },
      "file_extension": ".py",
      "mimetype": "text/x-python",
      "name": "python",
      "nbconvert_exporter": "python",
      "pygments_lexer": "ipython3",
      "version": "3.6.7"
    }
  },
  "nbformat": 4,
  "nbformat_minor": 0
}