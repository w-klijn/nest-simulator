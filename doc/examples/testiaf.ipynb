{
  "cells": [
    {
      "cell_type": "code",
      "execution_count": null,
      "metadata": {
        "collapsed": false
      },
      "outputs": [],
      "source": [
        "%matplotlib inline"
      ]
    },
    {
      "cell_type": "markdown",
      "metadata": {},
      "source": [
        "IAF Neuron example\n------------------\n\nA DC current is injected into the neuron using a current generator\ndevice. The membrane potential as well as the spiking activity are\nrecorded by corresponding devices.\n\nIt can be observed how the current charges the membrane, a spike\nis emitted, the neuron becomes absolute refractory, and finally\nstarts to recover.\n\n\n"
      ]
    },
    {
      "cell_type": "markdown",
      "metadata": {},
      "source": [
        "First, we import all necessary modules for simulation and plotting\n\n"
      ]
    },
    {
      "cell_type": "code",
      "execution_count": null,
      "metadata": {
        "collapsed": false
      },
      "outputs": [],
      "source": [
        "import nest\nimport pylab"
      ]
    },
    {
      "cell_type": "markdown",
      "metadata": {},
      "source": [
        "Second the function ``build_network`` is defined to build the network and\nreturn the handles of the ``spike_detector`` and the ``voltmeter``. The\nfunction takes the simulation resolution as argument\n\nThe function first resets the simulation kernel and sets the number of\nthreads and the simulation resolution.  The ``iaf_psc_alpha`` neuron is\ncreated and the handle is stored in the variable `neuron`. The status of\nthe neuron is changed so it receives an external current. Next a\n``voltmeter`` and a ``spike_detector`` are created and their handles stored\nin the variables `vm` and `sd` respectively.\n\nThe voltmeter and spike detector are then connected to the neuron. ``Connect``\ntakes the device and neuron handles as input. The voltmeter is connected to the\nneuron and the neuron to the spike detector because the neuron sends spikes\nto the detector and the voltmeter 'observes' the neuron.\n\n"
      ]
    },
    {
      "cell_type": "code",
      "execution_count": null,
      "metadata": {
        "collapsed": false
      },
      "outputs": [],
      "source": [
        "def build_network(dt):\n\n    nest.ResetKernel()\n    nest.SetKernelStatus({\"local_num_threads\": 1, \"resolution\": dt})\n\n    neuron = nest.Create('iaf_psc_alpha')\n    nest.SetStatus(neuron, \"I_e\", 376.0)\n\n    vm = nest.Create('voltmeter')\n    sd = nest.Create('spike_detector')\n\n    nest.Connect(vm, neuron)\n    nest.Connect(neuron, sd)\n\n    return vm, sd"
      ]
    },
    {
      "cell_type": "markdown",
      "metadata": {},
      "source": [
        "The neuron is simulated for three different resolutions and then the\nvoltage trace is plotted\n\n"
      ]
    },
    {
      "cell_type": "code",
      "execution_count": null,
      "metadata": {
        "collapsed": false
      },
      "outputs": [],
      "source": [
        "for dt in [0.1, 0.5, 1.0]:\n    print(\"Running simulation with dt=%.2f\" % dt)\n    vm, sd = build_network(dt)\n\n    nest.Simulate(1000.0)"
      ]
    },
    {
      "cell_type": "markdown",
      "metadata": {},
      "source": [
        "The network is simulated using ``Simulate``, which takes the desired\nsimulation time in milliseconds and advances the network state by this\namount of time. During simulation, the ``spike_detector`` counts the\nspikes of the target neuron and the total number is read out at the\nend of the simulation period.\n\nThe values of the voltage recorded by the voltmeter are read out and\nthe values for the membrane potential are stored in potential and the\ncorresponding times in the times array\n\n"
      ]
    },
    {
      "cell_type": "code",
      "execution_count": null,
      "metadata": {
        "collapsed": false
      },
      "outputs": [],
      "source": [
        "potentials = nest.GetStatus(vm, \"events\")[0][\"V_m\"]\n    times = nest.GetStatus(vm, \"events\")[0][\"times\"]"
      ]
    },
    {
      "cell_type": "markdown",
      "metadata": {},
      "source": [
        "Using the pylab library the voltage trace is plotted over time\n\n"
      ]
    },
    {
      "cell_type": "code",
      "execution_count": null,
      "metadata": {
        "collapsed": false
      },
      "outputs": [],
      "source": [
        "pylab.plot(times, potentials, label=\"dt=%.2f\" % dt)\n    print(\"  Number of spikes: {0}\".format(nest.GetStatus(sd, \"n_events\")[0]))"
      ]
    },
    {
      "cell_type": "markdown",
      "metadata": {},
      "source": [
        "Finally the axis are labelled and a legend is generated\n\n"
      ]
    },
    {
      "cell_type": "code",
      "execution_count": null,
      "metadata": {
        "collapsed": false
      },
      "outputs": [],
      "source": [
        "pylab.legend(loc=3)\n    pylab.xlabel(\"time (ms)\")\n    pylab.ylabel(\"V_m (mV)\")"
      ]
    }
  ],
  "metadata": {
    "kernelspec": {
      "display_name": "Python 3",
      "language": "python",
      "name": "python3"
    },
    "language_info": {
      "codemirror_mode": {
        "name": "ipython",
        "version": 3
      },
      "file_extension": ".py",
      "mimetype": "text/x-python",
      "name": "python",
      "nbconvert_exporter": "python",
      "pygments_lexer": "ipython3",
      "version": "3.6.7"
    }
  },
  "nbformat": 4,
  "nbformat_minor": 0
}