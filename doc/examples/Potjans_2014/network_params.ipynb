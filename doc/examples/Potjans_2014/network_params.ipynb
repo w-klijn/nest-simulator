{
  "cells": [
    {
      "cell_type": "code",
      "execution_count": null,
      "metadata": {
        "collapsed": false
      },
      "outputs": [],
      "source": [
        "%matplotlib inline"
      ]
    },
    {
      "cell_type": "markdown",
      "metadata": {},
      "source": [
        "\nPynest microcircuit parameters\n------------------------------\n\nNetwork parameters for the microcircuit.\n\nHendrik Rothe, Hannah Bos, Sacha van Albada; May 2016\n\n"
      ]
    },
    {
      "cell_type": "code",
      "execution_count": null,
      "metadata": {
        "collapsed": false
      },
      "outputs": [],
      "source": [
        "import numpy as np\n\n\ndef get_mean_delays(mean_delay_exc, mean_delay_inh, number_of_pop):\n    \"\"\" Creates matrix containing the delay of all connections.\n\n    Parameters\n    ----------\n    mean_delay_exc\n        Delay of the excitatory connections.\n    mean_delay_inh\n        Delay of the inhibitory connections.\n    number_of_pop\n        Number of populations.\n\n    Returns\n    -------\n    mean_delays\n        Matrix specifying the mean delay of all connections.\n\n    \"\"\"\n\n    dim = number_of_pop\n    mean_delays = np.zeros((dim, dim))\n    mean_delays[:, 0:dim:2] = mean_delay_exc\n    mean_delays[:, 1:dim:2] = mean_delay_inh\n    return mean_delays\n\n\ndef get_std_delays(std_delay_exc, std_delay_inh, number_of_pop):\n    \"\"\" Creates matrix containing the standard deviations of all delays.\n\n    Parameters\n    ----------\n    std_delay_exc\n        Standard deviation of excitatory delays.\n    std_delay_inh\n        Standard deviation of inhibitory delays.\n    number_of_pop\n        Number of populations in the microcircuit.\n\n    Returns\n    -------\n    std_delays\n        Matrix specifying the standard deviation of all delays.\n\n    \"\"\"\n\n    dim = number_of_pop\n    std_delays = np.zeros((dim, dim))\n    std_delays[:, 0:dim:2] = std_delay_exc\n    std_delays[:, 1:dim:2] = std_delay_inh\n    return std_delays\n\n\ndef get_mean_PSP_matrix(PSP_e, g, number_of_pop):\n    \"\"\" Creates a matrix of the mean evoked postsynaptic potential.\n\n    The function creates a matrix of the mean evoked postsynaptic\n    potentials between the recurrent connections of the microcircuit.\n    The weight of the connection from L4E to L23E is doubled.\n\n    Parameters\n    ----------\n    PSP_e\n        Mean evoked potential.\n    g\n        Relative strength of the inhibitory to excitatory connection.\n    number_of_pop\n        Number of populations in the microcircuit.\n\n    Returns\n    -------\n    weights\n        Matrix of the weights for the recurrent connections.\n\n    \"\"\"\n    dim = number_of_pop\n    weights = np.zeros((dim, dim))\n    exc = PSP_e\n    inh = PSP_e * g\n    weights[:, 0:dim:2] = exc\n    weights[:, 1:dim:2] = inh\n    weights[0, 2] = exc * 2\n    return weights\n\n\ndef get_std_PSP_matrix(PSP_rel, number_of_pop):\n    \"\"\" Relative standard deviation matrix of postsynaptic potential created.\n\n    The relative standard deviation matrix of the evoked postsynaptic potential\n    for the recurrent connections of the microcircuit is created.\n\n    Parameters\n    ----------\n    PSP_rel\n        Relative standard deviation of the evoked postsynaptic potential.\n    number_of_pop\n        Number of populations in the microcircuit.\n\n    Returns\n    -------\n    std_mat\n        Matrix of the standard deviation of postsynaptic potentials.\n\n    \"\"\"\n    dim = number_of_pop\n    std_mat = np.zeros((dim, dim))\n    std_mat[:, :] = PSP_rel\n    return std_mat\n\n\nnet_dict = {\n    # Neuron model.\n    'neuron_model': 'iaf_psc_exp',\n    # The default recording device is the spike_detector. If you also\n    # want to record the membrane potentials of the neurons, add\n    # 'voltmeter' to the list.\n    'rec_dev': ['spike_detector'],\n    # Names of the simulated populations.\n    'populations': ['L23E', 'L23I', 'L4E', 'L4I', 'L5E', 'L5I', 'L6E', 'L6I'],\n    # Number of neurons in the different populations. The order of the\n    # elements corresponds to the names of the variable 'populations'.\n    'N_full': np.array([20683, 5834, 21915, 5479, 4850, 1065, 14395, 2948]),\n    # Mean rates of the different populations in the non-scaled version\n    # of the microcircuit. Necessary for the scaling of the network.\n    # The order corresponds to the order in 'populations'.\n    'full_mean_rates':\n        np.array([0.971, 2.868, 4.746, 5.396, 8.142, 9.078, 0.991, 7.523]),\n    # Connection probabilities. The first index corresponds to the targets\n    # and the second to the sources.\n    'conn_probs':\n        np.array(\n            [[0.1009, 0.1689, 0.0437, 0.0818, 0.0323, 0., 0.0076, 0.],\n             [0.1346, 0.1371, 0.0316, 0.0515, 0.0755, 0., 0.0042, 0.],\n             [0.0077, 0.0059, 0.0497, 0.135, 0.0067, 0.0003, 0.0453, 0.],\n             [0.0691, 0.0029, 0.0794, 0.1597, 0.0033, 0., 0.1057, 0.],\n             [0.1004, 0.0622, 0.0505, 0.0057, 0.0831, 0.3726, 0.0204, 0.],\n             [0.0548, 0.0269, 0.0257, 0.0022, 0.06, 0.3158, 0.0086, 0.],\n             [0.0156, 0.0066, 0.0211, 0.0166, 0.0572, 0.0197, 0.0396, 0.2252],\n             [0.0364, 0.001, 0.0034, 0.0005, 0.0277, 0.008, 0.0658, 0.1443]]\n    ),\n    # Number of external connections to the different populations.\n    # The order corresponds to the order in 'populations'.\n    'K_ext': np.array([1600, 1500, 2100, 1900, 2000, 1900, 2900, 2100]),\n    # Factor to scale the indegrees.\n    'K_scaling': 0.1,\n    # Factor to scale the number of neurons.\n    'N_scaling': 0.1,\n    # Mean amplitude of excitatory postsynaptic potential (in mV).\n    'PSP_e': 0.15,\n    # Relative standard deviation of the postsynaptic potential.\n    'PSP_sd': 0.1,\n    # Relative inhibitory synaptic strength (in relative units).\n    'g': -4,\n    # Rate of the Poissonian spike generator (in Hz).\n    'bg_rate': 8.,\n    # Turn Poisson input on or off (True or False).\n    'poisson_input': True,\n    # Delay of the Poisson generator (in ms).\n    'poisson_delay': 1.5,\n    # Mean delay of excitatory connections (in ms).\n    'mean_delay_exc': 1.5,\n    # Mean delay of inhibitory connections (in ms).\n    'mean_delay_inh': 0.75,\n    # Relative standard deviation of the delay of excitatory and\n    # inhibitory connections (in relative units).\n    'rel_std_delay': 0.5,\n    # Initial conditions for the membrane potential, options are:\n    # 'original': uniform mean and std for all populations.\n    # 'optimized': population-specific mean and std, allowing a reduction of\n    # the initial activity burst in the network.\n    # Choose either 'original' or 'optimized'.\n    'V0_type': 'original',\n    # Parameters of the neurons.\n    'neuron_params': {\n        # Membrane potential average for the neurons (in mV).\n        'V0_mean': {'original': -58.0,\n                    'optimized': [-68.28, -63.16, -63.33, -63.45,\n                                  -63.11, -61.66, -66.72, -61.43]},\n        # Standard deviation of the average membrane potential (in mV).\n        'V0_sd': {'original': 10.0,\n                  'optimized': [5.36, 4.57, 4.74, 4.94,\n                                4.94, 4.55, 5.46, 4.48]},\n        # Reset membrane potential of the neurons (in mV).\n        'E_L': -65.0,\n        # Threshold potential of the neurons (in mV).\n        'V_th': -50.0,\n        # Membrane potential after a spike (in mV).\n        'V_reset': -65.0,\n        # Membrane capacitance (in pF).\n        'C_m': 250.0,\n        # Membrane time constant (in ms).\n        'tau_m': 10.0,\n        # Time constant of postsynaptic excitatory currents (in ms).\n        'tau_syn_ex': 0.5,\n        # Time constant of postsynaptic inhibitory currents (in ms).\n        'tau_syn_in': 0.5,\n        # Time constant of external postsynaptic excitatory current (in ms).\n        'tau_syn_E': 0.5,\n        # Refractory period of the neurons after a spike (in ms).\n        't_ref': 2.0}\n}\n\nupdated_dict = {\n    # PSP mean matrix.\n    'PSP_mean_matrix': get_mean_PSP_matrix(\n        net_dict['PSP_e'], net_dict['g'], len(net_dict['populations'])\n    ),\n    # PSP std matrix.\n    'PSP_std_matrix': get_std_PSP_matrix(\n        net_dict['PSP_sd'], len(net_dict['populations'])\n    ),\n    # mean delay matrix.\n    'mean_delay_matrix': get_mean_delays(\n        net_dict['mean_delay_exc'], net_dict['mean_delay_inh'],\n        len(net_dict['populations'])\n    ),\n    # std delay matrix.\n    'std_delay_matrix': get_std_delays(\n        net_dict['mean_delay_exc'] * net_dict['rel_std_delay'],\n        net_dict['mean_delay_inh'] * net_dict['rel_std_delay'],\n        len(net_dict['populations'])\n    ),\n}\n\n\nnet_dict.update(updated_dict)"
      ]
    }
  ],
  "metadata": {
    "kernelspec": {
      "display_name": "Python 3",
      "language": "python",
      "name": "python3"
    },
    "language_info": {
      "codemirror_mode": {
        "name": "ipython",
        "version": 3
      },
      "file_extension": ".py",
      "mimetype": "text/x-python",
      "name": "python",
      "nbconvert_exporter": "python",
      "pygments_lexer": "ipython3",
      "version": "3.6.7"
    }
  },
  "nbformat": 4,
  "nbformat_minor": 0
}