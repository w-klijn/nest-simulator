{
  "cells": [
    {
      "cell_type": "code",
      "execution_count": null,
      "metadata": {
        "collapsed": false
      },
      "outputs": [],
      "source": [
        "%matplotlib inline"
      ]
    },
    {
      "cell_type": "markdown",
      "metadata": {},
      "source": [
        "\nPynest microcircuit example\n---------------------------\n\nExample file to run the microcircuit.\n\n<<<<<<< HEAD\nHendrik Rothe, Hannah Bos, Sacha van Albada; May 2016\n=======\n\nThis example uses the function ``GetNodes``, which is deprecated. A deprecation\nwarning is therefore issued. For details about deprecated functions, see\ndocumentation.\n>>>>>>> refs/remotes/nest-simulator/master\n\n"
      ]
    },
    {
      "cell_type": "markdown",
      "metadata": {},
      "source": [
        "Import the necessary modules\n\n"
      ]
    },
    {
      "cell_type": "code",
      "execution_count": null,
      "metadata": {
        "collapsed": false
      },
      "outputs": [],
      "source": [
        "import time\nimport numpy as np\nimport network\nfrom network_params import net_dict\nfrom sim_params import sim_dict\nfrom stimulus_params import stim_dict"
      ]
    },
    {
      "cell_type": "markdown",
      "metadata": {},
      "source": [
        "Initialize the network and pass parameters to it.\n\n"
      ]
    },
    {
      "cell_type": "code",
      "execution_count": null,
      "metadata": {
        "collapsed": false
      },
      "outputs": [],
      "source": [
        "tic = time.time()\nnet = network.Network(sim_dict, net_dict, stim_dict)\ntoc = time.time() - tic\nprint(\"Time to initialize the network: %.2f s\" % toc)\n# Connect all nodes.\ntic = time.time()\nnet.setup()\ntoc = time.time() - tic\nprint(\"Time to create the connections: %.2f s\" % toc)\n# Simulate.\ntic = time.time()\nnet.simulate()\ntoc = time.time() - tic\nprint(\"Time to simulate: %.2f s\" % toc)"
      ]
    },
    {
      "cell_type": "markdown",
      "metadata": {},
      "source": [
        "Plot a raster plot of the spikes of the simulated neurons and the average\nspike rate of all populations. For visual purposes only spikes 100 ms\nbefore and 100 ms after the thalamic stimulus time are plotted here by\ndefault. The computation of spike rates discards the first 500 ms of\nthe simulation to exclude initialization artifacts.\n\n"
      ]
    },
    {
      "cell_type": "code",
      "execution_count": null,
      "metadata": {
        "collapsed": false
      },
      "outputs": [],
      "source": [
        "raster_plot_time_idx = np.array(\n    [stim_dict['th_start'] - 100.0, stim_dict['th_start'] + 100.0]\n    )\nfire_rate_time_idx = np.array([500.0, sim_dict['t_sim']])\nnet.evaluate(raster_plot_time_idx, fire_rate_time_idx)"
      ]
    }
  ],
  "metadata": {
    "kernelspec": {
      "display_name": "Python 3",
      "language": "python",
      "name": "python3"
    },
    "language_info": {
      "codemirror_mode": {
        "name": "ipython",
        "version": 3
      },
      "file_extension": ".py",
      "mimetype": "text/x-python",
      "name": "python",
      "nbconvert_exporter": "python",
      "pygments_lexer": "ipython3",
      "version": "3.6.7"
    }
  },
  "nbformat": 4,
  "nbformat_minor": 0
}